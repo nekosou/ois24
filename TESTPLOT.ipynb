{
 "cells": [
  {
   "cell_type": "code",
   "execution_count": 2,
   "id": "f3ad8a7b-d37e-4f99-95ac-3f53cd52796f",
   "metadata": {
    "execution": {
     "iopub.execute_input": "2024-05-27T15:00:36.805001Z",
     "iopub.status.busy": "2024-05-27T15:00:36.747762Z",
     "iopub.status.idle": "2024-05-27T15:00:37.170415Z",
     "shell.execute_reply": "2024-05-27T15:00:37.167265Z"
    },
    "tags": []
   },
   "outputs": [
    {
     "name": "stdout",
     "output_type": "stream",
     "text": [
      "c'est la semaine n. 1 ,la population actuelle est 2000 \n",
      "c'est la semaine n. 2 ,la population actuelle est 1800 \n",
      "c'est la semaine n. 3 ,la population actuelle est 1620 \n",
      "c'est la semaine n. 4 ,la population actuelle est 1458 \n",
      "c'est la semaine n. 5 ,la population actuelle est 1312 \n",
      "c'est la semaine n. 6 ,la population actuelle est 1181 \n",
      "c'est la semaine n. 7 ,la population actuelle est 1063 \n",
      "c'est la semaine n. 8 ,la population actuelle est 957 \n",
      "c'est la semaine n. 9 ,la population actuelle est 861 \n",
      "c'est la semaine n. 10 ,la population actuelle est 775 \n",
      "c'est la semaine n. 11 ,la population actuelle est 697 \n",
      "c'est la semaine n. 12 ,la population actuelle est 628 \n",
      "c'est la semaine n. 13 ,la population actuelle est 565 \n",
      "c'est la semaine n. 14 ,la population actuelle est 508 \n",
      "c'est la semaine n. 15 ,la population actuelle est 458 \n",
      "c'est la semaine n. 16 ,la population actuelle est 412 \n",
      "c'est la semaine n. 17 ,la population actuelle est 371 \n",
      "c'est la semaine n. 18 ,la population actuelle est 334 \n",
      "c'est la semaine n. 19 ,la population actuelle est 300 \n",
      "c'est la semaine n. 20 ,la population actuelle est 270 \n",
      "c'est la semaine n. 21 ,la population actuelle est 243 \n",
      "c'est la semaine n. 22 ,la population actuelle est 219 \n",
      "c'est la semaine n. 23 ,la population actuelle est 197 \n",
      "c'est la semaine n. 24 ,la population actuelle est 177 \n",
      "c'est la semaine n. 25 ,la population actuelle est 160 \n",
      "c'est la semaine n. 26 ,la population actuelle est 144 \n",
      "c'est la semaine n. 27 ,la population actuelle est 129 \n",
      "c'est la semaine n. 28 ,la population actuelle est 116 \n",
      "c'est la semaine n. 29 ,la population actuelle est 105 \n",
      "c'est la semaine n. 30 ,la population actuelle est 94 \n",
      "c'est la semaine n. 31 ,la population actuelle est 85 \n",
      "c'est la semaine n. 32 ,la population actuelle est 76 \n",
      "c'est la semaine n. 33 ,la population actuelle est 69 \n",
      "c'est la semaine n. 34 ,la population actuelle est 62 \n",
      "c'est la semaine n. 35 ,la population actuelle est 56 \n",
      "c'est la semaine n. 36 ,la population actuelle est 50 \n",
      "c'est la semaine n. 37 ,la population actuelle est 45 \n",
      "c'est la semaine n. 38 ,la population actuelle est 41 \n",
      "c'est la semaine n. 39 ,la population actuelle est 36 \n",
      "c'est la semaine n. 40 ,la population actuelle est 33 \n",
      "c'est la semaine n. 41 ,la population actuelle est 30 \n",
      "c'est la semaine n. 42 ,la population actuelle est 27 \n",
      "c'est la semaine n. 43 ,la population actuelle est 24 \n",
      "c'est la semaine n. 44 ,la population actuelle est 22 \n",
      "c'est la semaine n. 45 ,la population actuelle est 19 \n",
      "c'est la semaine n. 46 ,la population actuelle est 17 \n",
      "c'est la semaine n. 47 ,la population actuelle est 16 \n",
      "c'est la semaine n. 48 ,la population actuelle est 14 \n",
      "c'est la semaine n. 49 ,la population actuelle est 13 \n",
      "c'est la semaine n. 50 ,la population actuelle est 11 \n",
      "c'est la semaine n. 51 ,la population actuelle est 10 \n",
      "c'est la semaine n. 52 ,la population actuelle est 9 \n"
     ]
    },
    {
     "data": {
      "text/html": [
       "<strong>png:</strong> 2"
      ],
      "text/latex": [
       "\\textbf{png:} 2"
      ],
      "text/markdown": [
       "**png:** 2"
      ],
      "text/plain": [
       "png \n",
       "  2 "
      ]
     },
     "metadata": {},
     "output_type": "display_data"
    }
   ],
   "source": [
    "week_oty<- c(1:52)\n",
    "initial<- 2000\n",
    "REST<- week_oty\n",
    "RESTROUND<- REST\n",
    "cat(\"c'est la semaine n.\", 1, \",la population actuelle est\", REST[1]<- initial, \"\\n\")\n",
    "for (step in 1:length(week_oty)){\n",
    "    if(step==1){\n",
    "        RESTROUND[step]<- initial\n",
    "        }else{\n",
    "    REST[step]<- REST[step - 1]*0.9 \n",
    "    RESTROUND[step]<- round(REST[step])\n",
    "    cat(\"c'est la semaine n.\", week_oty[step], \",la population actuelle est\", RESTROUND[step], \"\\n\")\n",
    "    }\n",
    "}\n",
    "pdf(\"MINI_tache8.pdf\", width = 8, height = 6)\n",
    "plot(week_oty,\n",
    "     RESTROUND,\n",
    "     type= \"l\",\n",
    "     xlab= \"Week of the year\",\n",
    "     ylab= \"Fish population left\",\n",
    "     cex= 1,\n",
    "     main= \"Evolution of fish population per week\",\n",
    "     col= \"green\")\n",
    "dev.off()\n",
    "     "
   ]
  }
 ],
 "metadata": {
  "kernelspec": {
   "display_name": "R",
   "language": "R",
   "name": "ir"
  },
  "language_info": {
   "codemirror_mode": "r",
   "file_extension": ".r",
   "mimetype": "text/x-r-source",
   "name": "R",
   "pygments_lexer": "r",
   "version": "4.3.2"
  }
 },
 "nbformat": 4,
 "nbformat_minor": 5
}
